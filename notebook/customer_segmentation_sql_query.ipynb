{
 "cells": [
  {
   "cell_type": "markdown",
   "id": "91e7aa63",
   "metadata": {},
   "source": [
    "###### Goals:\n",
    "\n",
    "* connect to the database\n",
    "* query the tables in the database\n",
    "* Activity: basic sql queries to explore the data\n"
   ]
  },
  {
   "cell_type": "code",
   "execution_count": 14,
   "id": "5863c965",
   "metadata": {},
   "outputs": [],
   "source": [
    "# import the libraries needed\n",
    "import os\n",
    "import sys\n",
    "import pandas as pd\n",
    "import psycopg2\n",
    "\n",
    "module_path = os.path.abspath(os.path.join('..'))\n",
    "if module_path not in sys.path:\n",
    "    sys.path.append(module_path)\n",
    "    \n",
    "from src.extract import connect_to_redshift\n",
    "\n",
    "# using this library for reading password\n",
    "from dotenv import load_dotenv\n",
    "load_dotenv()\n",
    "\n",
    "import warnings\n",
    "warnings.filterwarnings('ignore')"
   ]
  },
  {
   "cell_type": "markdown",
   "id": "f0e4dbcc",
   "metadata": {},
   "source": [
    "## Connect to database"
   ]
  },
  {
   "cell_type": "code",
   "execution_count": 15,
   "id": "8f7a5e50",
   "metadata": {},
   "outputs": [],
   "source": [
    "\n",
    "# import variables from .env file\n",
    "dbname = os.getenv(\"dbname\")\n",
    "host = os.getenv(\"host\")\n",
    "port = os.getenv(\"port\")\n",
    "user = os.getenv(\"user\")\n",
    "password = os.getenv(\"password\")\n",
    "aws_access_key_id = os.getenv(\"aws_access_key_id\")\n",
    "aws_secret_access_key_id = os.getenv(\"aws_secret_access_key_id\")"
   ]
  },
  {
   "cell_type": "code",
   "execution_count": 16,
   "id": "477fb87c",
   "metadata": {},
   "outputs": [
    {
     "name": "stdout",
     "output_type": "stream",
     "text": [
      "connection to redshift made\n"
     ]
    }
   ],
   "source": [
    "connect = connect_to_redshift(dbname, host, port, user, password)"
   ]
  },
  {
   "cell_type": "markdown",
   "id": "fd202894",
   "metadata": {},
   "source": [
    "## Query the Tables"
   ]
  },
  {
   "cell_type": "code",
   "execution_count": 17,
   "id": "0634cd38",
   "metadata": {},
   "outputs": [],
   "source": [
    "query= \"\"\"select * \n",
    "          from bootcamp.online_transactions_cleaned          \n",
    "       \"\"\" \n",
    "\n",
    "online_trans_cleaned = pd.read_sql(query, connect)"
   ]
  },
  {
   "cell_type": "code",
   "execution_count": 18,
   "id": "6ab3a1ab",
   "metadata": {},
   "outputs": [
    {
     "data": {
      "text/html": [
       "<div>\n",
       "<style scoped>\n",
       "    .dataframe tbody tr th:only-of-type {\n",
       "        vertical-align: middle;\n",
       "    }\n",
       "\n",
       "    .dataframe tbody tr th {\n",
       "        vertical-align: top;\n",
       "    }\n",
       "\n",
       "    .dataframe thead th {\n",
       "        text-align: right;\n",
       "    }\n",
       "</style>\n",
       "<table border=\"1\" class=\"dataframe\">\n",
       "  <thead>\n",
       "    <tr style=\"text-align: right;\">\n",
       "      <th></th>\n",
       "      <th>invoice</th>\n",
       "      <th>stock_code</th>\n",
       "      <th>description</th>\n",
       "      <th>price</th>\n",
       "      <th>quantity</th>\n",
       "      <th>total_order_value</th>\n",
       "      <th>invoice_date</th>\n",
       "      <th>customer_id</th>\n",
       "      <th>country</th>\n",
       "    </tr>\n",
       "  </thead>\n",
       "  <tbody>\n",
       "    <tr>\n",
       "      <th>0</th>\n",
       "      <td>536381</td>\n",
       "      <td>37444A</td>\n",
       "      <td>YELLOW BREAKFAST CUP AND SAUCER</td>\n",
       "      <td>2.95</td>\n",
       "      <td>1</td>\n",
       "      <td>2.95</td>\n",
       "      <td>2010-12-01 09:41:00</td>\n",
       "      <td>u15311</td>\n",
       "      <td>United Kingdom</td>\n",
       "    </tr>\n",
       "    <tr>\n",
       "      <th>1</th>\n",
       "      <td>536384</td>\n",
       "      <td>22189</td>\n",
       "      <td>CREAM HEART CARD HOLDER</td>\n",
       "      <td>3.95</td>\n",
       "      <td>4</td>\n",
       "      <td>15.80</td>\n",
       "      <td>2010-12-01 09:53:00</td>\n",
       "      <td>u18074</td>\n",
       "      <td>United Kingdom</td>\n",
       "    </tr>\n",
       "    <tr>\n",
       "      <th>2</th>\n",
       "      <td>536390</td>\n",
       "      <td>22960</td>\n",
       "      <td>JAM MAKING SET WITH JARS</td>\n",
       "      <td>3.75</td>\n",
       "      <td>12</td>\n",
       "      <td>45.00</td>\n",
       "      <td>2010-12-01 10:19:00</td>\n",
       "      <td>u17511</td>\n",
       "      <td>United Kingdom</td>\n",
       "    </tr>\n",
       "    <tr>\n",
       "      <th>3</th>\n",
       "      <td>536392</td>\n",
       "      <td>21891</td>\n",
       "      <td>TRADITIONAL WOODEN SKIPPING ROPE</td>\n",
       "      <td>1.25</td>\n",
       "      <td>12</td>\n",
       "      <td>15.00</td>\n",
       "      <td>2010-12-01 10:29:00</td>\n",
       "      <td>u13705</td>\n",
       "      <td>United Kingdom</td>\n",
       "    </tr>\n",
       "    <tr>\n",
       "      <th>4</th>\n",
       "      <td>536396</td>\n",
       "      <td>82494L</td>\n",
       "      <td>WOODEN FRAME ANTIQUE WHITE</td>\n",
       "      <td>2.55</td>\n",
       "      <td>12</td>\n",
       "      <td>30.60</td>\n",
       "      <td>2010-12-01 10:51:00</td>\n",
       "      <td>u1785</td>\n",
       "      <td>United Kingdom</td>\n",
       "    </tr>\n",
       "  </tbody>\n",
       "</table>\n",
       "</div>"
      ],
      "text/plain": [
       "  invoice stock_code                       description  price  quantity   \n",
       "0  536381     37444A   YELLOW BREAKFAST CUP AND SAUCER   2.95         1  \\\n",
       "1  536384      22189           CREAM HEART CARD HOLDER   3.95         4   \n",
       "2  536390      22960          JAM MAKING SET WITH JARS   3.75        12   \n",
       "3  536392      21891  TRADITIONAL WOODEN SKIPPING ROPE   1.25        12   \n",
       "4  536396     82494L       WOODEN FRAME ANTIQUE WHITE    2.55        12   \n",
       "\n",
       "   total_order_value        invoice_date customer_id         country  \n",
       "0               2.95 2010-12-01 09:41:00      u15311  United Kingdom  \n",
       "1              15.80 2010-12-01 09:53:00      u18074  United Kingdom  \n",
       "2              45.00 2010-12-01 10:19:00      u17511  United Kingdom  \n",
       "3              15.00 2010-12-01 10:29:00      u13705  United Kingdom  \n",
       "4              30.60 2010-12-01 10:51:00       u1785  United Kingdom  "
      ]
     },
     "execution_count": 18,
     "metadata": {},
     "output_type": "execute_result"
    }
   ],
   "source": [
    "online_trans_cleaned.head(5)"
   ]
  },
  {
   "cell_type": "code",
   "execution_count": 19,
   "id": "197a8618",
   "metadata": {},
   "outputs": [
    {
     "data": {
      "text/plain": [
       "(399841, 9)"
      ]
     },
     "execution_count": 19,
     "metadata": {},
     "output_type": "execute_result"
    }
   ],
   "source": [
    "online_trans_cleaned.shape"
   ]
  },
  {
   "cell_type": "code",
   "execution_count": 20,
   "id": "71c6ad4e",
   "metadata": {},
   "outputs": [
    {
     "name": "stdout",
     "output_type": "stream",
     "text": [
      "<class 'pandas.core.frame.DataFrame'>\n",
      "RangeIndex: 399841 entries, 0 to 399840\n",
      "Data columns (total 9 columns):\n",
      " #   Column             Non-Null Count   Dtype         \n",
      "---  ------             --------------   -----         \n",
      " 0   invoice            399841 non-null  object        \n",
      " 1   stock_code         399841 non-null  object        \n",
      " 2   description        399841 non-null  object        \n",
      " 3   price              399841 non-null  float64       \n",
      " 4   quantity           399841 non-null  int64         \n",
      " 5   total_order_value  399841 non-null  float64       \n",
      " 6   invoice_date       399841 non-null  datetime64[ns]\n",
      " 7   customer_id        399841 non-null  object        \n",
      " 8   country            399841 non-null  object        \n",
      "dtypes: datetime64[ns](1), float64(2), int64(1), object(5)\n",
      "memory usage: 27.5+ MB\n"
     ]
    }
   ],
   "source": [
    "online_trans_cleaned.info()"
   ]
  },
  {
   "cell_type": "code",
   "execution_count": 30,
   "id": "83de11fb",
   "metadata": {},
   "outputs": [
    {
     "data": {
      "text/html": [
       "<div>\n",
       "<style scoped>\n",
       "    .dataframe tbody tr th:only-of-type {\n",
       "        vertical-align: middle;\n",
       "    }\n",
       "\n",
       "    .dataframe tbody tr th {\n",
       "        vertical-align: top;\n",
       "    }\n",
       "\n",
       "    .dataframe thead th {\n",
       "        text-align: right;\n",
       "    }\n",
       "</style>\n",
       "<table border=\"1\" class=\"dataframe\">\n",
       "  <thead>\n",
       "    <tr style=\"text-align: right;\">\n",
       "      <th></th>\n",
       "      <th>invoice</th>\n",
       "      <th>stock_code</th>\n",
       "      <th>description</th>\n",
       "      <th>price</th>\n",
       "      <th>quantity</th>\n",
       "      <th>total_order_value</th>\n",
       "      <th>invoice_date</th>\n",
       "      <th>customer_id</th>\n",
       "      <th>country</th>\n",
       "    </tr>\n",
       "  </thead>\n",
       "  <tbody>\n",
       "    <tr>\n",
       "      <th>0</th>\n",
       "      <td>False</td>\n",
       "      <td>False</td>\n",
       "      <td>False</td>\n",
       "      <td>False</td>\n",
       "      <td>False</td>\n",
       "      <td>False</td>\n",
       "      <td>False</td>\n",
       "      <td>False</td>\n",
       "      <td>False</td>\n",
       "    </tr>\n",
       "    <tr>\n",
       "      <th>1</th>\n",
       "      <td>False</td>\n",
       "      <td>False</td>\n",
       "      <td>False</td>\n",
       "      <td>False</td>\n",
       "      <td>False</td>\n",
       "      <td>False</td>\n",
       "      <td>False</td>\n",
       "      <td>False</td>\n",
       "      <td>False</td>\n",
       "    </tr>\n",
       "    <tr>\n",
       "      <th>2</th>\n",
       "      <td>False</td>\n",
       "      <td>False</td>\n",
       "      <td>False</td>\n",
       "      <td>False</td>\n",
       "      <td>False</td>\n",
       "      <td>False</td>\n",
       "      <td>False</td>\n",
       "      <td>False</td>\n",
       "      <td>False</td>\n",
       "    </tr>\n",
       "    <tr>\n",
       "      <th>3</th>\n",
       "      <td>False</td>\n",
       "      <td>False</td>\n",
       "      <td>False</td>\n",
       "      <td>False</td>\n",
       "      <td>False</td>\n",
       "      <td>False</td>\n",
       "      <td>False</td>\n",
       "      <td>False</td>\n",
       "      <td>False</td>\n",
       "    </tr>\n",
       "    <tr>\n",
       "      <th>4</th>\n",
       "      <td>False</td>\n",
       "      <td>False</td>\n",
       "      <td>False</td>\n",
       "      <td>False</td>\n",
       "      <td>False</td>\n",
       "      <td>False</td>\n",
       "      <td>False</td>\n",
       "      <td>False</td>\n",
       "      <td>False</td>\n",
       "    </tr>\n",
       "    <tr>\n",
       "      <th>...</th>\n",
       "      <td>...</td>\n",
       "      <td>...</td>\n",
       "      <td>...</td>\n",
       "      <td>...</td>\n",
       "      <td>...</td>\n",
       "      <td>...</td>\n",
       "      <td>...</td>\n",
       "      <td>...</td>\n",
       "      <td>...</td>\n",
       "    </tr>\n",
       "    <tr>\n",
       "      <th>399836</th>\n",
       "      <td>False</td>\n",
       "      <td>False</td>\n",
       "      <td>False</td>\n",
       "      <td>False</td>\n",
       "      <td>False</td>\n",
       "      <td>False</td>\n",
       "      <td>False</td>\n",
       "      <td>False</td>\n",
       "      <td>False</td>\n",
       "    </tr>\n",
       "    <tr>\n",
       "      <th>399837</th>\n",
       "      <td>False</td>\n",
       "      <td>False</td>\n",
       "      <td>False</td>\n",
       "      <td>False</td>\n",
       "      <td>False</td>\n",
       "      <td>False</td>\n",
       "      <td>False</td>\n",
       "      <td>False</td>\n",
       "      <td>False</td>\n",
       "    </tr>\n",
       "    <tr>\n",
       "      <th>399838</th>\n",
       "      <td>False</td>\n",
       "      <td>False</td>\n",
       "      <td>False</td>\n",
       "      <td>False</td>\n",
       "      <td>False</td>\n",
       "      <td>False</td>\n",
       "      <td>False</td>\n",
       "      <td>False</td>\n",
       "      <td>False</td>\n",
       "    </tr>\n",
       "    <tr>\n",
       "      <th>399839</th>\n",
       "      <td>False</td>\n",
       "      <td>False</td>\n",
       "      <td>False</td>\n",
       "      <td>False</td>\n",
       "      <td>False</td>\n",
       "      <td>False</td>\n",
       "      <td>False</td>\n",
       "      <td>False</td>\n",
       "      <td>False</td>\n",
       "    </tr>\n",
       "    <tr>\n",
       "      <th>399840</th>\n",
       "      <td>False</td>\n",
       "      <td>False</td>\n",
       "      <td>False</td>\n",
       "      <td>False</td>\n",
       "      <td>False</td>\n",
       "      <td>False</td>\n",
       "      <td>False</td>\n",
       "      <td>False</td>\n",
       "      <td>False</td>\n",
       "    </tr>\n",
       "  </tbody>\n",
       "</table>\n",
       "<p>399841 rows × 9 columns</p>\n",
       "</div>"
      ],
      "text/plain": [
       "        invoice  stock_code  description  price  quantity  total_order_value   \n",
       "0         False       False        False  False     False              False  \\\n",
       "1         False       False        False  False     False              False   \n",
       "2         False       False        False  False     False              False   \n",
       "3         False       False        False  False     False              False   \n",
       "4         False       False        False  False     False              False   \n",
       "...         ...         ...          ...    ...       ...                ...   \n",
       "399836    False       False        False  False     False              False   \n",
       "399837    False       False        False  False     False              False   \n",
       "399838    False       False        False  False     False              False   \n",
       "399839    False       False        False  False     False              False   \n",
       "399840    False       False        False  False     False              False   \n",
       "\n",
       "        invoice_date  customer_id  country  \n",
       "0              False        False    False  \n",
       "1              False        False    False  \n",
       "2              False        False    False  \n",
       "3              False        False    False  \n",
       "4              False        False    False  \n",
       "...              ...          ...      ...  \n",
       "399836         False        False    False  \n",
       "399837         False        False    False  \n",
       "399838         False        False    False  \n",
       "399839         False        False    False  \n",
       "399840         False        False    False  \n",
       "\n",
       "[399841 rows x 9 columns]"
      ]
     },
     "execution_count": 30,
     "metadata": {},
     "output_type": "execute_result"
    }
   ],
   "source": [
    "online_trans_cleaned.isnull()"
   ]
  },
  {
   "cell_type": "code",
   "execution_count": 31,
   "id": "2f7622f8",
   "metadata": {},
   "outputs": [
    {
     "data": {
      "text/plain": [
       "invoice              0\n",
       "stock_code           0\n",
       "description          0\n",
       "price                0\n",
       "quantity             0\n",
       "total_order_value    0\n",
       "invoice_date         0\n",
       "customer_id          0\n",
       "country              0\n",
       "dtype: int64"
      ]
     },
     "execution_count": 31,
     "metadata": {},
     "output_type": "execute_result"
    }
   ],
   "source": [
    "online_trans_cleaned.isnull().sum()"
   ]
  },
  {
   "cell_type": "code",
   "execution_count": null,
   "id": "e7257863",
   "metadata": {},
   "outputs": [],
   "source": []
  },
  {
   "cell_type": "markdown",
   "id": "2cde496c",
   "metadata": {},
   "source": [
    "## SQL Query"
   ]
  },
  {
   "cell_type": "markdown",
   "id": "2c007fd3",
   "metadata": {},
   "source": [
    "#####  1. How many invoices does the table contain?"
   ]
  },
  {
   "cell_type": "code",
   "execution_count": 21,
   "id": "83dae18c",
   "metadata": {},
   "outputs": [
    {
     "data": {
      "text/html": [
       "<div>\n",
       "<style scoped>\n",
       "    .dataframe tbody tr th:only-of-type {\n",
       "        vertical-align: middle;\n",
       "    }\n",
       "\n",
       "    .dataframe tbody tr th {\n",
       "        vertical-align: top;\n",
       "    }\n",
       "\n",
       "    .dataframe thead th {\n",
       "        text-align: right;\n",
       "    }\n",
       "</style>\n",
       "<table border=\"1\" class=\"dataframe\">\n",
       "  <thead>\n",
       "    <tr style=\"text-align: right;\">\n",
       "      <th></th>\n",
       "      <th>number_of_invoices</th>\n",
       "    </tr>\n",
       "  </thead>\n",
       "  <tbody>\n",
       "    <tr>\n",
       "      <th>0</th>\n",
       "      <td>399841</td>\n",
       "    </tr>\n",
       "  </tbody>\n",
       "</table>\n",
       "</div>"
      ],
      "text/plain": [
       "   number_of_invoices\n",
       "0              399841"
      ]
     },
     "execution_count": 21,
     "metadata": {},
     "output_type": "execute_result"
    }
   ],
   "source": [
    "query = \"\"\"select count(invoice) as number_of_invoices\n",
    "           from bootcamp.online_transactions_cleaned\n",
    "        \"\"\"\n",
    "pd.read_sql(query, connect)"
   ]
  },
  {
   "cell_type": "markdown",
   "id": "13e6d57c",
   "metadata": {},
   "source": [
    "##### 2. When was the first and last purchase?"
   ]
  },
  {
   "cell_type": "code",
   "execution_count": 22,
   "id": "46261d3c",
   "metadata": {},
   "outputs": [
    {
     "data": {
      "text/html": [
       "<div>\n",
       "<style scoped>\n",
       "    .dataframe tbody tr th:only-of-type {\n",
       "        vertical-align: middle;\n",
       "    }\n",
       "\n",
       "    .dataframe tbody tr th {\n",
       "        vertical-align: top;\n",
       "    }\n",
       "\n",
       "    .dataframe thead th {\n",
       "        text-align: right;\n",
       "    }\n",
       "</style>\n",
       "<table border=\"1\" class=\"dataframe\">\n",
       "  <thead>\n",
       "    <tr style=\"text-align: right;\">\n",
       "      <th></th>\n",
       "      <th>first_purchase</th>\n",
       "      <th>last_purchase</th>\n",
       "    </tr>\n",
       "  </thead>\n",
       "  <tbody>\n",
       "    <tr>\n",
       "      <th>0</th>\n",
       "      <td>2010-12-01 08:26:00</td>\n",
       "      <td>2011-12-09 12:50:00</td>\n",
       "    </tr>\n",
       "  </tbody>\n",
       "</table>\n",
       "</div>"
      ],
      "text/plain": [
       "       first_purchase       last_purchase\n",
       "0 2010-12-01 08:26:00 2011-12-09 12:50:00"
      ]
     },
     "execution_count": 22,
     "metadata": {},
     "output_type": "execute_result"
    }
   ],
   "source": [
    "query = \"\"\"select MIN(invoice_date) AS first_purchase,\n",
    "           MAX(invoice_date) AS last_purchase\n",
    "           from bootcamp.online_transactions_cleaned \n",
    "        \"\"\"\n",
    "pd.read_sql(query, connect)"
   ]
  },
  {
   "cell_type": "markdown",
   "id": "849f7d79",
   "metadata": {},
   "source": [
    "##### 3.How many customers does the table contain?"
   ]
  },
  {
   "cell_type": "code",
   "execution_count": 23,
   "id": "cf60d80d",
   "metadata": {},
   "outputs": [
    {
     "data": {
      "text/html": [
       "<div>\n",
       "<style scoped>\n",
       "    .dataframe tbody tr th:only-of-type {\n",
       "        vertical-align: middle;\n",
       "    }\n",
       "\n",
       "    .dataframe tbody tr th {\n",
       "        vertical-align: top;\n",
       "    }\n",
       "\n",
       "    .dataframe thead th {\n",
       "        text-align: right;\n",
       "    }\n",
       "</style>\n",
       "<table border=\"1\" class=\"dataframe\">\n",
       "  <thead>\n",
       "    <tr style=\"text-align: right;\">\n",
       "      <th></th>\n",
       "      <th>total_customers</th>\n",
       "    </tr>\n",
       "  </thead>\n",
       "  <tbody>\n",
       "    <tr>\n",
       "      <th>0</th>\n",
       "      <td>4363</td>\n",
       "    </tr>\n",
       "  </tbody>\n",
       "</table>\n",
       "</div>"
      ],
      "text/plain": [
       "   total_customers\n",
       "0             4363"
      ]
     },
     "execution_count": 23,
     "metadata": {},
     "output_type": "execute_result"
    }
   ],
   "source": [
    "query = \"\"\"select count(Distinct customer_id) As total_customers\n",
    "           from bootcamp.online_transactions_cleaned\n",
    "        \"\"\"\n",
    "pd.read_sql(query, connect)"
   ]
  },
  {
   "cell_type": "markdown",
   "id": "d2debe35",
   "metadata": {},
   "source": [
    "##### 4. How many different types of stocks did the customer purchase?  "
   ]
  },
  {
   "cell_type": "code",
   "execution_count": 24,
   "id": "f0872800",
   "metadata": {},
   "outputs": [
    {
     "data": {
      "text/html": [
       "<div>\n",
       "<style scoped>\n",
       "    .dataframe tbody tr th:only-of-type {\n",
       "        vertical-align: middle;\n",
       "    }\n",
       "\n",
       "    .dataframe tbody tr th {\n",
       "        vertical-align: top;\n",
       "    }\n",
       "\n",
       "    .dataframe thead th {\n",
       "        text-align: right;\n",
       "    }\n",
       "</style>\n",
       "<table border=\"1\" class=\"dataframe\">\n",
       "  <thead>\n",
       "    <tr style=\"text-align: right;\">\n",
       "      <th></th>\n",
       "      <th>num_of_stock_types</th>\n",
       "    </tr>\n",
       "  </thead>\n",
       "  <tbody>\n",
       "    <tr>\n",
       "      <th>0</th>\n",
       "      <td>3679</td>\n",
       "    </tr>\n",
       "  </tbody>\n",
       "</table>\n",
       "</div>"
      ],
      "text/plain": [
       "   num_of_stock_types\n",
       "0                3679"
      ]
     },
     "execution_count": 24,
     "metadata": {},
     "output_type": "execute_result"
    }
   ],
   "source": [
    "query = \"\"\"select count(Distinct stock_code) as num_of_stock_types\n",
    "           from bootcamp.online_transactions_cleaned\n",
    "        \"\"\"\n",
    "pd.read_sql(query, connect)"
   ]
  },
  {
   "cell_type": "markdown",
   "id": "7e0a2ef9",
   "metadata": {},
   "source": [
    "##### 5. What is the most popular stock? (You can look at top 10 sold items - does this differ across markets?)"
   ]
  },
  {
   "cell_type": "code",
   "execution_count": 26,
   "id": "5f7576b8",
   "metadata": {},
   "outputs": [
    {
     "data": {
      "text/html": [
       "<div>\n",
       "<style scoped>\n",
       "    .dataframe tbody tr th:only-of-type {\n",
       "        vertical-align: middle;\n",
       "    }\n",
       "\n",
       "    .dataframe tbody tr th {\n",
       "        vertical-align: top;\n",
       "    }\n",
       "\n",
       "    .dataframe thead th {\n",
       "        text-align: right;\n",
       "    }\n",
       "</style>\n",
       "<table border=\"1\" class=\"dataframe\">\n",
       "  <thead>\n",
       "    <tr style=\"text-align: right;\">\n",
       "      <th></th>\n",
       "      <th>stock_code</th>\n",
       "      <th>description</th>\n",
       "      <th>country</th>\n",
       "      <th>total_sold_quantity</th>\n",
       "      <th>total_revenue</th>\n",
       "    </tr>\n",
       "  </thead>\n",
       "  <tbody>\n",
       "    <tr>\n",
       "      <th>0</th>\n",
       "      <td>84077</td>\n",
       "      <td>WORLD WAR 2 GLIDERS ASSTD DESIGNS</td>\n",
       "      <td>United Kingdom</td>\n",
       "      <td>47886</td>\n",
       "      <td>11856.04</td>\n",
       "    </tr>\n",
       "    <tr>\n",
       "      <th>1</th>\n",
       "      <td>22197</td>\n",
       "      <td>POPCORN HOLDER</td>\n",
       "      <td>United Kingdom</td>\n",
       "      <td>45194</td>\n",
       "      <td>34090.58</td>\n",
       "    </tr>\n",
       "    <tr>\n",
       "      <th>2</th>\n",
       "      <td>85099B</td>\n",
       "      <td>JUMBO BAG RED RETROSPOT</td>\n",
       "      <td>United Kingdom</td>\n",
       "      <td>40777</td>\n",
       "      <td>75236.43</td>\n",
       "    </tr>\n",
       "    <tr>\n",
       "      <th>3</th>\n",
       "      <td>84879</td>\n",
       "      <td>ASSORTED COLOUR BIRD ORNAMENT</td>\n",
       "      <td>United Kingdom</td>\n",
       "      <td>32580</td>\n",
       "      <td>52147.56</td>\n",
       "    </tr>\n",
       "    <tr>\n",
       "      <th>4</th>\n",
       "      <td>85123A</td>\n",
       "      <td>CREAM HANGING HEART T-LIGHT HOLDER</td>\n",
       "      <td>United Kingdom</td>\n",
       "      <td>32136</td>\n",
       "      <td>88416.20</td>\n",
       "    </tr>\n",
       "    <tr>\n",
       "      <th>5</th>\n",
       "      <td>22616</td>\n",
       "      <td>PACK OF 12 LONDON TISSUES</td>\n",
       "      <td>United Kingdom</td>\n",
       "      <td>24297</td>\n",
       "      <td>6920.49</td>\n",
       "    </tr>\n",
       "    <tr>\n",
       "      <th>6</th>\n",
       "      <td>17003</td>\n",
       "      <td>BROCADE RING PURSE</td>\n",
       "      <td>United Kingdom</td>\n",
       "      <td>22672</td>\n",
       "      <td>5718.69</td>\n",
       "    </tr>\n",
       "    <tr>\n",
       "      <th>7</th>\n",
       "      <td>21212</td>\n",
       "      <td>PACK OF 72 RETROSPOT CAKE CASES</td>\n",
       "      <td>United Kingdom</td>\n",
       "      <td>22182</td>\n",
       "      <td>10856.22</td>\n",
       "    </tr>\n",
       "    <tr>\n",
       "      <th>8</th>\n",
       "      <td>22178</td>\n",
       "      <td>VICTORIAN GLASS HANGING T-LIGHT</td>\n",
       "      <td>United Kingdom</td>\n",
       "      <td>21427</td>\n",
       "      <td>27350.31</td>\n",
       "    </tr>\n",
       "    <tr>\n",
       "      <th>9</th>\n",
       "      <td>21977</td>\n",
       "      <td>PACK OF 60 PINK PAISLEY CAKE CASES</td>\n",
       "      <td>United Kingdom</td>\n",
       "      <td>19882</td>\n",
       "      <td>9438.00</td>\n",
       "    </tr>\n",
       "  </tbody>\n",
       "</table>\n",
       "</div>"
      ],
      "text/plain": [
       "  stock_code                         description         country   \n",
       "0      84077   WORLD WAR 2 GLIDERS ASSTD DESIGNS  United Kingdom  \\\n",
       "1      22197                      POPCORN HOLDER  United Kingdom   \n",
       "2     85099B             JUMBO BAG RED RETROSPOT  United Kingdom   \n",
       "3      84879       ASSORTED COLOUR BIRD ORNAMENT  United Kingdom   \n",
       "4     85123A  CREAM HANGING HEART T-LIGHT HOLDER  United Kingdom   \n",
       "5      22616          PACK OF 12 LONDON TISSUES   United Kingdom   \n",
       "6      17003                 BROCADE RING PURSE   United Kingdom   \n",
       "7      21212     PACK OF 72 RETROSPOT CAKE CASES  United Kingdom   \n",
       "8      22178     VICTORIAN GLASS HANGING T-LIGHT  United Kingdom   \n",
       "9      21977  PACK OF 60 PINK PAISLEY CAKE CASES  United Kingdom   \n",
       "\n",
       "   total_sold_quantity  total_revenue  \n",
       "0                47886       11856.04  \n",
       "1                45194       34090.58  \n",
       "2                40777       75236.43  \n",
       "3                32580       52147.56  \n",
       "4                32136       88416.20  \n",
       "5                24297        6920.49  \n",
       "6                22672        5718.69  \n",
       "7                22182       10856.22  \n",
       "8                21427       27350.31  \n",
       "9                19882        9438.00  "
      ]
     },
     "execution_count": 26,
     "metadata": {},
     "output_type": "execute_result"
    }
   ],
   "source": [
    "query = \"\"\"select stock_code, description, country, SUM(quantity) AS total_sold_quantity, \n",
    "           SUM(total_order_value) AS total_revenue \n",
    "           from bootcamp.online_transactions_cleaned\n",
    "           group by stock_code, description, country\n",
    "           order by total_sold_quantity desc\n",
    "           limit 10\n",
    "        \"\"\"\n",
    "pd.read_sql(query, connect)"
   ]
  },
  {
   "cell_type": "markdown",
   "id": "115f0df3",
   "metadata": {},
   "source": []
  },
  {
   "cell_type": "markdown",
   "id": "070e4a0c",
   "metadata": {},
   "source": [
    "#### 6. What is the average order value i.e. price * quantity?\n"
   ]
  },
  {
   "cell_type": "code",
   "execution_count": 27,
   "id": "6b6aba66",
   "metadata": {},
   "outputs": [
    {
     "data": {
      "text/html": [
       "<div>\n",
       "<style scoped>\n",
       "    .dataframe tbody tr th:only-of-type {\n",
       "        vertical-align: middle;\n",
       "    }\n",
       "\n",
       "    .dataframe tbody tr th {\n",
       "        vertical-align: top;\n",
       "    }\n",
       "\n",
       "    .dataframe thead th {\n",
       "        text-align: right;\n",
       "    }\n",
       "</style>\n",
       "<table border=\"1\" class=\"dataframe\">\n",
       "  <thead>\n",
       "    <tr style=\"text-align: right;\">\n",
       "      <th></th>\n",
       "      <th>avg_order_value</th>\n",
       "    </tr>\n",
       "  </thead>\n",
       "  <tbody>\n",
       "    <tr>\n",
       "      <th>0</th>\n",
       "      <td>20.716904</td>\n",
       "    </tr>\n",
       "  </tbody>\n",
       "</table>\n",
       "</div>"
      ],
      "text/plain": [
       "   avg_order_value\n",
       "0        20.716904"
      ]
     },
     "execution_count": 27,
     "metadata": {},
     "output_type": "execute_result"
    }
   ],
   "source": [
    "query = \"\"\"select avg(total_order_value) As avg_order_value\n",
    "           from bootcamp.online_transactions_cleaned\n",
    "        \"\"\"\n",
    "pd.read_sql(query, connect)"
   ]
  },
  {
   "cell_type": "markdown",
   "id": "ade21337",
   "metadata": {},
   "source": [
    "#### 7. How many Stocks have the Description “Unknown”? How will you handle this when building customer segments? "
   ]
  },
  {
   "cell_type": "code",
   "execution_count": 28,
   "id": "6aef3715",
   "metadata": {},
   "outputs": [
    {
     "data": {
      "text/html": [
       "<div>\n",
       "<style scoped>\n",
       "    .dataframe tbody tr th:only-of-type {\n",
       "        vertical-align: middle;\n",
       "    }\n",
       "\n",
       "    .dataframe tbody tr th {\n",
       "        vertical-align: top;\n",
       "    }\n",
       "\n",
       "    .dataframe thead th {\n",
       "        text-align: right;\n",
       "    }\n",
       "</style>\n",
       "<table border=\"1\" class=\"dataframe\">\n",
       "  <thead>\n",
       "    <tr style=\"text-align: right;\">\n",
       "      <th></th>\n",
       "      <th>num_unknown_stocks</th>\n",
       "    </tr>\n",
       "  </thead>\n",
       "  <tbody>\n",
       "    <tr>\n",
       "      <th>0</th>\n",
       "      <td>1172</td>\n",
       "    </tr>\n",
       "  </tbody>\n",
       "</table>\n",
       "</div>"
      ],
      "text/plain": [
       "   num_unknown_stocks\n",
       "0                1172"
      ]
     },
     "execution_count": 28,
     "metadata": {},
     "output_type": "execute_result"
    }
   ],
   "source": [
    "query = \"\"\" select count(description) As num_unknown_stocks\n",
    "             from bootcamp.online_transactions_cleaned \n",
    "             where description = 'Unknown'\n",
    "        \"\"\"\n",
    "pd.read_sql(query,connect)"
   ]
  },
  {
   "cell_type": "code",
   "execution_count": null,
   "id": "57dde71d",
   "metadata": {},
   "outputs": [],
   "source": []
  },
  {
   "cell_type": "code",
   "execution_count": null,
   "id": "276cae32",
   "metadata": {},
   "outputs": [],
   "source": []
  },
  {
   "cell_type": "code",
   "execution_count": null,
   "id": "dee848a1",
   "metadata": {},
   "outputs": [],
   "source": []
  },
  {
   "cell_type": "code",
   "execution_count": null,
   "id": "913681d0",
   "metadata": {},
   "outputs": [],
   "source": []
  },
  {
   "cell_type": "code",
   "execution_count": null,
   "id": "5070b55b",
   "metadata": {},
   "outputs": [],
   "source": []
  },
  {
   "cell_type": "code",
   "execution_count": null,
   "id": "aae037dc",
   "metadata": {},
   "outputs": [],
   "source": []
  },
  {
   "cell_type": "code",
   "execution_count": null,
   "id": "50eed91e",
   "metadata": {},
   "outputs": [],
   "source": []
  },
  {
   "cell_type": "code",
   "execution_count": null,
   "id": "1ac6f1e2",
   "metadata": {},
   "outputs": [],
   "source": []
  },
  {
   "cell_type": "code",
   "execution_count": null,
   "id": "8c308c40",
   "metadata": {},
   "outputs": [],
   "source": []
  }
 ],
 "metadata": {
  "kernelspec": {
   "display_name": "Python 3 (ipykernel)",
   "language": "python",
   "name": "python3"
  },
  "language_info": {
   "codemirror_mode": {
    "name": "ipython",
    "version": 3
   },
   "file_extension": ".py",
   "mimetype": "text/x-python",
   "name": "python",
   "nbconvert_exporter": "python",
   "pygments_lexer": "ipython3",
   "version": "3.10.11"
  }
 },
 "nbformat": 4,
 "nbformat_minor": 5
}
